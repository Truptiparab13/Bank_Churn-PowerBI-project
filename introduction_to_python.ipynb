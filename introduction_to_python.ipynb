{
  "nbformat": 4,
  "nbformat_minor": 0,
  "metadata": {
    "colab": {
      "private_outputs": true,
      "provenance": [],
      "collapsed_sections": [
        "hmHksW78hPS8",
        "255zxrvxhWki",
        "-UlG5ydydg7r",
        "wqhmKpQugWfB",
        "2en8-aRdt8jH",
        "BSH4yk1w4QBt"
      ],
      "include_colab_link": true
    },
    "kernelspec": {
      "name": "python3",
      "display_name": "Python 3"
    },
    "language_info": {
      "name": "python"
    }
  },
  "cells": [
    {
      "cell_type": "markdown",
      "metadata": {
        "id": "view-in-github",
        "colab_type": "text"
      },
      "source": [
        "<a href=\"https://colab.research.google.com/github/Truptiparab13/Bank_Churn-PowerBI-project/blob/main/introduction_to_python.ipynb\" target=\"_parent\"><img src=\"https://colab.research.google.com/assets/colab-badge.svg\" alt=\"Open In Colab\"/></a>"
      ]
    },
    {
      "cell_type": "code",
      "execution_count": null,
      "metadata": {
        "id": "1geqEvbQP6By"
      },
      "outputs": [],
      "source": [
        "#alg operations\n",
        "#variables in python\n",
        "#datatypes and containers \n",
        "#loops \n",
        "#if-else\n",
        "#functions\n",
        "#list comprehension\n",
        "#exception handling\n",
        "#map and filter\n",
        "#pandas \n",
        "#numpy \n",
        "#plot\n",
        "\n",
        "#https://www.w3schools.com/python/. ->>>> learning \n",
        "\n",
        "#https://pynative.com/python-exercises-with-solutions/  ->>>> practice"
      ]
    },
    {
      "cell_type": "markdown",
      "source": [
        "# **alg operation** \n",
        "\n"
      ],
      "metadata": {
        "id": "o5GYn0UnSoE7"
      }
    },
    {
      "cell_type": "code",
      "source": [
        "10+6 "
      ],
      "metadata": {
        "id": "w8jtxiDRSTKC"
      },
      "execution_count": null,
      "outputs": []
    },
    {
      "cell_type": "code",
      "source": [
        "23-4"
      ],
      "metadata": {
        "id": "lre_HTMPSmUl"
      },
      "execution_count": null,
      "outputs": []
    },
    {
      "cell_type": "code",
      "source": [
        "12*4"
      ],
      "metadata": {
        "id": "ZVPvv4RZTjfG"
      },
      "execution_count": null,
      "outputs": []
    },
    {
      "cell_type": "code",
      "source": [
        "19/4"
      ],
      "metadata": {
        "id": "ImJZRFdxTkik"
      },
      "execution_count": null,
      "outputs": []
    },
    {
      "cell_type": "code",
      "source": [
        "12%5 "
      ],
      "metadata": {
        "id": "pkBHCoVMTmqn"
      },
      "execution_count": null,
      "outputs": []
    },
    {
      "cell_type": "code",
      "source": [
        "12//5 "
      ],
      "metadata": {
        "id": "xJfK4I5sTtJX"
      },
      "execution_count": null,
      "outputs": []
    },
    {
      "cell_type": "code",
      "source": [
        "20//3,20%3"
      ],
      "metadata": {
        "id": "N5WvErEnTwVA"
      },
      "execution_count": null,
      "outputs": []
    },
    {
      "cell_type": "code",
      "source": [
        "15//6,15%6"
      ],
      "metadata": {
        "id": "Nur13mWmUBad"
      },
      "execution_count": null,
      "outputs": []
    },
    {
      "cell_type": "code",
      "source": [
        "pow(2,3)"
      ],
      "metadata": {
        "id": "7BwtBPlAUacE"
      },
      "execution_count": null,
      "outputs": []
    },
    {
      "cell_type": "code",
      "source": [
        "pow(3,3)\n"
      ],
      "metadata": {
        "id": "OEl3JzYxU7A7"
      },
      "execution_count": null,
      "outputs": []
    },
    {
      "cell_type": "code",
      "source": [
        "3**3"
      ],
      "metadata": {
        "id": "tqb4wQMRU_ST"
      },
      "execution_count": null,
      "outputs": []
    },
    {
      "cell_type": "code",
      "source": [
        "pow(5,2),5**2"
      ],
      "metadata": {
        "id": "4_UUQ7Z9VB3P"
      },
      "execution_count": null,
      "outputs": []
    },
    {
      "cell_type": "markdown",
      "source": [
        "# **variables in python**"
      ],
      "metadata": {
        "id": "Ih1hRz-oX-oa"
      }
    },
    {
      "cell_type": "code",
      "source": [
        "x=10;y=12"
      ],
      "metadata": {
        "id": "YoxAFMnqVFlz"
      },
      "execution_count": null,
      "outputs": []
    },
    {
      "cell_type": "code",
      "source": [
        "id(x),id(y)"
      ],
      "metadata": {
        "id": "ZWlxJ22GWGyh"
      },
      "execution_count": null,
      "outputs": []
    },
    {
      "cell_type": "code",
      "source": [
        "x,y,z=10,20,30"
      ],
      "metadata": {
        "id": "zojvd0SsWHYb"
      },
      "execution_count": null,
      "outputs": []
    },
    {
      "cell_type": "code",
      "source": [
        "x"
      ],
      "metadata": {
        "id": "UcXhE0gqYnUX"
      },
      "execution_count": null,
      "outputs": []
    },
    {
      "cell_type": "code",
      "source": [
        "y"
      ],
      "metadata": {
        "id": "QD4M7IQfYnyk"
      },
      "execution_count": null,
      "outputs": []
    },
    {
      "cell_type": "code",
      "source": [
        "z"
      ],
      "metadata": {
        "id": "kzqI5lDgYod6"
      },
      "execution_count": null,
      "outputs": []
    },
    {
      "cell_type": "code",
      "source": [
        "x=10\n",
        "x1=10\n",
        "x__=10\n",
        "#alphabet or _\n",
        "#alphabet , _ and number"
      ],
      "metadata": {
        "id": "VgqjnbhPYo6_"
      },
      "execution_count": null,
      "outputs": []
    },
    {
      "cell_type": "code",
      "source": [
        "_x=10\n",
        "x_=10\n",
        "x_1=10\n",
        "_=10\n",
        "x1=10\n",
        "x____x=10"
      ],
      "metadata": {
        "id": "-WjNNOz_aEC8"
      },
      "execution_count": null,
      "outputs": []
    },
    {
      "cell_type": "code",
      "source": [
        "x=10\n",
        "y=19\n",
        "z=5\n",
        "x,y,z=x+y,x-y,x*y\n",
        "x,y,z"
      ],
      "metadata": {
        "id": "R0Dc9zlfarhv"
      },
      "execution_count": null,
      "outputs": []
    },
    {
      "cell_type": "code",
      "source": [
        "x=10\n",
        "y=19\n",
        "z=5\n",
        "x,y,x=x+y,x-y,x*y\n",
        "x,y,x"
      ],
      "metadata": {
        "id": "j9-p2VAjcjCY"
      },
      "execution_count": null,
      "outputs": []
    },
    {
      "cell_type": "markdown",
      "source": [
        "# **datatypes and containers**"
      ],
      "metadata": {
        "id": "Sq8my-eEfCD8"
      }
    },
    {
      "cell_type": "code",
      "source": [
        "\"\"\"\n",
        "int\n",
        "float\n",
        "string\n",
        "bool\n",
        "\n",
        "list->mu ->any object \n",
        "tuple -> immu ->any object\n",
        "set->mu -> only it contains immutable \n",
        "dict->mu-> any object(values) , immutable(keys)\n",
        "\"\"\""
      ],
      "metadata": {
        "id": "p3VjLlHTdayI"
      },
      "execution_count": null,
      "outputs": []
    },
    {
      "cell_type": "markdown",
      "source": [
        "## **Int and float**"
      ],
      "metadata": {
        "id": "hmHksW78hPS8"
      }
    },
    {
      "cell_type": "code",
      "source": [
        "a=10\n",
        "b=20\n",
        "c=10"
      ],
      "metadata": {
        "id": "KTCCp1RZflmD"
      },
      "execution_count": null,
      "outputs": []
    },
    {
      "cell_type": "code",
      "source": [
        "type(a)"
      ],
      "metadata": {
        "id": "96a9MOo2fnpN"
      },
      "execution_count": null,
      "outputs": []
    },
    {
      "cell_type": "code",
      "source": [
        "a=10.1\n",
        "b=20.2\n",
        "c=10.0"
      ],
      "metadata": {
        "id": "2L4UjJDufpaU"
      },
      "execution_count": null,
      "outputs": []
    },
    {
      "cell_type": "code",
      "source": [
        "type(a),type(b),type(c)"
      ],
      "metadata": {
        "id": "GTF4GFqIfwuI"
      },
      "execution_count": null,
      "outputs": []
    },
    {
      "cell_type": "code",
      "source": [
        "a=10\n",
        "a=float(a)\n",
        "a=int(a)\n",
        "a"
      ],
      "metadata": {
        "id": "bVEV9VVnfy_a"
      },
      "execution_count": null,
      "outputs": []
    },
    {
      "cell_type": "code",
      "source": [
        "a=10.9\n",
        "a=int(a)\n",
        "a=float(a)\n",
        "a"
      ],
      "metadata": {
        "id": "xKrM7DbigQRz"
      },
      "execution_count": null,
      "outputs": []
    },
    {
      "cell_type": "markdown",
      "source": [
        "## **string**"
      ],
      "metadata": {
        "id": "255zxrvxhWki"
      }
    },
    {
      "cell_type": "code",
      "source": [
        "\"string is a collection of characters\""
      ],
      "metadata": {
        "id": "DD-r6herghzl"
      },
      "execution_count": null,
      "outputs": []
    },
    {
      "cell_type": "code",
      "source": [
        "a=\"python\"\n",
        "b='python'\n",
        "c='''python'''"
      ],
      "metadata": {
        "id": "6VcG2V78g-JW"
      },
      "execution_count": null,
      "outputs": []
    },
    {
      "cell_type": "code",
      "source": [
        "id(a),id(b),id(c)"
      ],
      "metadata": {
        "id": "rRd5ALb0h6Xl"
      },
      "execution_count": null,
      "outputs": []
    },
    {
      "cell_type": "code",
      "source": [
        "a+a"
      ],
      "metadata": {
        "id": "H4x9KVdViPiH"
      },
      "execution_count": null,
      "outputs": []
    },
    {
      "cell_type": "code",
      "source": [
        "a*2"
      ],
      "metadata": {
        "id": "tQ4wrufZiij0"
      },
      "execution_count": null,
      "outputs": []
    },
    {
      "cell_type": "code",
      "source": [
        "a*3"
      ],
      "metadata": {
        "id": "izw3bdTFinAj"
      },
      "execution_count": null,
      "outputs": []
    },
    {
      "cell_type": "code",
      "source": [
        "a*2"
      ],
      "metadata": {
        "id": "pVvHfh2fitlX"
      },
      "execution_count": null,
      "outputs": []
    },
    {
      "cell_type": "code",
      "source": [
        "a.upper()"
      ],
      "metadata": {
        "id": "hqz7l8eujDg4"
      },
      "execution_count": null,
      "outputs": []
    },
    {
      "cell_type": "code",
      "source": [
        "a.lower()"
      ],
      "metadata": {
        "id": "ifIca3HOjWFD"
      },
      "execution_count": null,
      "outputs": []
    },
    {
      "cell_type": "code",
      "source": [
        "a.capitalize()"
      ],
      "metadata": {
        "id": "ldhuIn7gjYJy"
      },
      "execution_count": null,
      "outputs": []
    },
    {
      "cell_type": "code",
      "source": [
        "\"python class\".title()"
      ],
      "metadata": {
        "id": "VKp05PyijesF"
      },
      "execution_count": null,
      "outputs": []
    },
    {
      "cell_type": "code",
      "source": [
        "\"python class\".capitalize()\n"
      ],
      "metadata": {
        "id": "1Fu67DGcjpea"
      },
      "execution_count": null,
      "outputs": []
    },
    {
      "cell_type": "code",
      "source": [
        "a"
      ],
      "metadata": {
        "id": "LvmOyBNLjttg"
      },
      "execution_count": null,
      "outputs": []
    },
    {
      "cell_type": "code",
      "source": [
        "a[3]\n"
      ],
      "metadata": {
        "id": "SIHtmgUikEVa"
      },
      "execution_count": null,
      "outputs": []
    },
    {
      "cell_type": "code",
      "source": [
        "a[5]"
      ],
      "metadata": {
        "id": "GZYRkLVHkgWd"
      },
      "execution_count": null,
      "outputs": []
    },
    {
      "cell_type": "code",
      "source": [
        "a.count(\"n\")"
      ],
      "metadata": {
        "id": "HaFDl7WJkxsZ"
      },
      "execution_count": null,
      "outputs": []
    },
    {
      "cell_type": "code",
      "source": [
        "int(10.9),round(10.9),"
      ],
      "metadata": {
        "id": "JfOnWN_Sk6AS"
      },
      "execution_count": null,
      "outputs": []
    },
    {
      "cell_type": "code",
      "source": [
        "a.index(\"h\")\n"
      ],
      "metadata": {
        "id": "N7eAXyCplDxq"
      },
      "execution_count": null,
      "outputs": []
    },
    {
      "cell_type": "code",
      "source": [
        "a[3]"
      ],
      "metadata": {
        "id": "0HOGlIDjlQMO"
      },
      "execution_count": null,
      "outputs": []
    },
    {
      "cell_type": "code",
      "source": [
        "a"
      ],
      "metadata": {
        "id": "t4yJOH97lU2a"
      },
      "execution_count": null,
      "outputs": []
    },
    {
      "cell_type": "code",
      "source": [
        "a.count(\"h\")"
      ],
      "metadata": {
        "id": "Fg4hi_xWbW0q"
      },
      "execution_count": null,
      "outputs": []
    },
    {
      "cell_type": "code",
      "source": [
        "a"
      ],
      "metadata": {
        "id": "q8ehEJyMbj6U"
      },
      "execution_count": null,
      "outputs": []
    },
    {
      "cell_type": "code",
      "source": [
        "a[4]"
      ],
      "metadata": {
        "id": "8jSlTkK3boMP"
      },
      "execution_count": null,
      "outputs": []
    },
    {
      "cell_type": "code",
      "source": [
        "a[4]=\"k\" "
      ],
      "metadata": {
        "id": "K2MK7yCQbvi2"
      },
      "execution_count": null,
      "outputs": []
    },
    {
      "cell_type": "code",
      "source": [
        "a"
      ],
      "metadata": {
        "id": "XY5weOOncuiH"
      },
      "execution_count": null,
      "outputs": []
    },
    {
      "cell_type": "code",
      "source": [
        "a.isupper()\n",
        "a.islower()\n",
        "a.isalpha()\n",
        "a.isalnum()\n"
      ],
      "metadata": {
        "id": "IbEbJuaDb5wj"
      },
      "execution_count": null,
      "outputs": []
    },
    {
      "cell_type": "markdown",
      "source": [
        "## **bool**"
      ],
      "metadata": {
        "id": "-UlG5ydydg7r"
      }
    },
    {
      "cell_type": "code",
      "source": [
        "True,False"
      ],
      "metadata": {
        "id": "4HR4-T4sc9YI"
      },
      "execution_count": null,
      "outputs": []
    },
    {
      "cell_type": "code",
      "source": [
        "1+True"
      ],
      "metadata": {
        "id": "gqK01e4bdgK7"
      },
      "execution_count": null,
      "outputs": []
    },
    {
      "cell_type": "code",
      "source": [
        "5-True"
      ],
      "metadata": {
        "id": "wIUMVMfMeChH"
      },
      "execution_count": null,
      "outputs": []
    },
    {
      "cell_type": "code",
      "source": [
        "# == , is "
      ],
      "metadata": {
        "id": "BJAaj6oNeJQr"
      },
      "execution_count": null,
      "outputs": []
    },
    {
      "cell_type": "code",
      "source": [
        "x=5\n",
        "y=5\n",
        "z=5.0"
      ],
      "metadata": {
        "id": "Rq_gJhfsemGl"
      },
      "execution_count": null,
      "outputs": []
    },
    {
      "cell_type": "code",
      "source": [
        "x==y==z"
      ],
      "metadata": {
        "id": "j7RcFFtceq45"
      },
      "execution_count": null,
      "outputs": []
    },
    {
      "cell_type": "code",
      "source": [
        "x is y "
      ],
      "metadata": {
        "id": "PgiwnYd5e6cV"
      },
      "execution_count": null,
      "outputs": []
    },
    {
      "cell_type": "code",
      "source": [
        "y is z"
      ],
      "metadata": {
        "id": "9zHq6ZwPfCNW"
      },
      "execution_count": null,
      "outputs": []
    },
    {
      "cell_type": "code",
      "source": [],
      "metadata": {
        "id": "aKUzbxBzfGUQ"
      },
      "execution_count": null,
      "outputs": []
    },
    {
      "cell_type": "markdown",
      "source": [
        "## **list**"
      ],
      "metadata": {
        "id": "wqhmKpQugWfB"
      }
    },
    {
      "cell_type": "code",
      "source": [
        "# collection of objects "
      ],
      "metadata": {
        "id": "G4J5RRGVgiDZ"
      },
      "execution_count": null,
      "outputs": []
    },
    {
      "cell_type": "code",
      "source": [
        "l=[1,1.3,True,\"Sam\",[1,2,3]]\n",
        "l"
      ],
      "metadata": {
        "id": "i6QJgmWLgzc7"
      },
      "execution_count": null,
      "outputs": []
    },
    {
      "cell_type": "code",
      "source": [
        "len(l)"
      ],
      "metadata": {
        "id": "GL-qGxu1g6Hh"
      },
      "execution_count": null,
      "outputs": []
    },
    {
      "cell_type": "code",
      "source": [
        "l+l+l"
      ],
      "metadata": {
        "id": "TexSu6srhVaP"
      },
      "execution_count": null,
      "outputs": []
    },
    {
      "cell_type": "code",
      "source": [
        "l=[1,2,5,8]"
      ],
      "metadata": {
        "id": "xrwz5fFQjOHJ"
      },
      "execution_count": null,
      "outputs": []
    },
    {
      "cell_type": "code",
      "source": [
        "l+l,l*2"
      ],
      "metadata": {
        "id": "nYd31KZEhc0c"
      },
      "execution_count": null,
      "outputs": []
    },
    {
      "cell_type": "code",
      "source": [
        "l*3.4"
      ],
      "metadata": {
        "id": "rMtEr2DojNcS"
      },
      "execution_count": null,
      "outputs": []
    },
    {
      "cell_type": "code",
      "source": [
        "l"
      ],
      "metadata": {
        "id": "vjWTk1F_jsxc"
      },
      "execution_count": null,
      "outputs": []
    },
    {
      "cell_type": "code",
      "source": [
        "l.count(5)"
      ],
      "metadata": {
        "id": "8svfpuQTjwMf"
      },
      "execution_count": null,
      "outputs": []
    },
    {
      "cell_type": "code",
      "source": [
        "l.index(5)"
      ],
      "metadata": {
        "id": "Z3T-Uri5jyQQ"
      },
      "execution_count": null,
      "outputs": []
    },
    {
      "cell_type": "code",
      "source": [
        "l[0]=10 "
      ],
      "metadata": {
        "id": "fIpGyZhTjzuf"
      },
      "execution_count": null,
      "outputs": []
    },
    {
      "cell_type": "code",
      "source": [
        "l"
      ],
      "metadata": {
        "id": "xsTsfIUGkOeT"
      },
      "execution_count": null,
      "outputs": []
    },
    {
      "cell_type": "code",
      "source": [
        "type(l.index)"
      ],
      "metadata": {
        "id": "dZxfRfywkRsr"
      },
      "execution_count": null,
      "outputs": []
    },
    {
      "cell_type": "code",
      "source": [
        "l"
      ],
      "metadata": {
        "id": "b0hRLosYlZKB"
      },
      "execution_count": null,
      "outputs": []
    },
    {
      "cell_type": "code",
      "source": [
        "l[2]"
      ],
      "metadata": {
        "id": "ZQe6f7WolvJS"
      },
      "execution_count": null,
      "outputs": []
    },
    {
      "cell_type": "code",
      "source": [
        "l"
      ],
      "metadata": {
        "id": "O-yRHGztl3oY"
      },
      "execution_count": null,
      "outputs": []
    },
    {
      "cell_type": "code",
      "source": [
        "l[2]=20"
      ],
      "metadata": {
        "id": "R0E6zqSsmygr"
      },
      "execution_count": null,
      "outputs": []
    },
    {
      "cell_type": "code",
      "source": [
        "l"
      ],
      "metadata": {
        "id": "TWByaFAOm9RK"
      },
      "execution_count": null,
      "outputs": []
    },
    {
      "cell_type": "code",
      "source": [
        "l.append(15)\n",
        "l"
      ],
      "metadata": {
        "id": "llKobPkMm9mm"
      },
      "execution_count": null,
      "outputs": []
    },
    {
      "cell_type": "code",
      "source": [
        "l.insert(1,100)"
      ],
      "metadata": {
        "id": "fUw8mXC4nBN8"
      },
      "execution_count": null,
      "outputs": []
    },
    {
      "cell_type": "code",
      "source": [
        "l"
      ],
      "metadata": {
        "id": "7Z1CV8PmnWPj"
      },
      "execution_count": null,
      "outputs": []
    },
    {
      "cell_type": "code",
      "source": [
        "l.remove(100)"
      ],
      "metadata": {
        "id": "h8obxhi2na9D"
      },
      "execution_count": null,
      "outputs": []
    },
    {
      "cell_type": "code",
      "source": [
        "l"
      ],
      "metadata": {
        "id": "gW7KKj97q0oU"
      },
      "execution_count": null,
      "outputs": []
    },
    {
      "cell_type": "code",
      "source": [
        "l.pop(2)"
      ],
      "metadata": {
        "id": "K58UwJ_Gq8zN"
      },
      "execution_count": null,
      "outputs": []
    },
    {
      "cell_type": "code",
      "source": [
        "l"
      ],
      "metadata": {
        "id": "1gxFoKVwrNDY"
      },
      "execution_count": null,
      "outputs": []
    },
    {
      "cell_type": "code",
      "source": [
        "int(\"123\")"
      ],
      "metadata": {
        "id": "lBHu_8n4rN1L"
      },
      "execution_count": null,
      "outputs": []
    },
    {
      "cell_type": "code",
      "source": [
        "int(\"hrfbe\")\n"
      ],
      "metadata": {
        "id": "rsPbME2JtcCx"
      },
      "execution_count": null,
      "outputs": []
    },
    {
      "cell_type": "markdown",
      "source": [
        "## **Tuple**"
      ],
      "metadata": {
        "id": "2en8-aRdt8jH"
      }
    },
    {
      "cell_type": "code",
      "source": [
        "#it is also collection of objects "
      ],
      "metadata": {
        "id": "QGuVpYDPtdcM"
      },
      "execution_count": null,
      "outputs": []
    },
    {
      "cell_type": "code",
      "source": [
        "a=[1,2,3]\n",
        "b=(1,3,5)"
      ],
      "metadata": {
        "id": "1CKYD2--uIuX"
      },
      "execution_count": null,
      "outputs": []
    },
    {
      "cell_type": "code",
      "source": [
        "type(a),type(b)"
      ],
      "metadata": {
        "id": "73W8ABvcuVIS"
      },
      "execution_count": null,
      "outputs": []
    },
    {
      "cell_type": "code",
      "source": [
        "b"
      ],
      "metadata": {
        "id": "JC9jA35tuXnb"
      },
      "execution_count": null,
      "outputs": []
    },
    {
      "cell_type": "code",
      "source": [
        "b+b"
      ],
      "metadata": {
        "id": "fJ1-U71lviaA"
      },
      "execution_count": null,
      "outputs": []
    },
    {
      "cell_type": "code",
      "source": [
        "b*2"
      ],
      "metadata": {
        "id": "Kr8O6BhRvmnL"
      },
      "execution_count": null,
      "outputs": []
    },
    {
      "cell_type": "code",
      "source": [
        "b.index(5)"
      ],
      "metadata": {
        "id": "CmWnMDExvr__"
      },
      "execution_count": null,
      "outputs": []
    },
    {
      "cell_type": "code",
      "source": [
        "b.count(5)"
      ],
      "metadata": {
        "id": "WocI1f4Kv1d4"
      },
      "execution_count": null,
      "outputs": []
    },
    {
      "cell_type": "code",
      "source": [
        "b[1]=10"
      ],
      "metadata": {
        "id": "wc5EDX5Xv6J6"
      },
      "execution_count": null,
      "outputs": []
    },
    {
      "cell_type": "code",
      "source": [
        "a[1]=10"
      ],
      "metadata": {
        "id": "wRVCtqL030St"
      },
      "execution_count": null,
      "outputs": []
    },
    {
      "cell_type": "markdown",
      "source": [
        "## **set**"
      ],
      "metadata": {
        "id": "BSH4yk1w4QBt"
      }
    },
    {
      "cell_type": "code",
      "source": [
        "# collection of unique objects "
      ],
      "metadata": {
        "id": "kMtxvlz54Ae6"
      },
      "execution_count": null,
      "outputs": []
    },
    {
      "cell_type": "code",
      "source": [
        "l={1,4,1,10}"
      ],
      "metadata": {
        "id": "raPGCOkF4XvO"
      },
      "execution_count": null,
      "outputs": []
    },
    {
      "cell_type": "code",
      "source": [
        "l"
      ],
      "metadata": {
        "id": "vbhyiU2Q4esd"
      },
      "execution_count": null,
      "outputs": []
    },
    {
      "cell_type": "code",
      "source": [
        "\n",
        "\n",
        "a={1,7,10}\n",
        "b={2,7,19}\n",
        "\n"
      ],
      "metadata": {
        "id": "-4TcAuti4s-7"
      },
      "execution_count": null,
      "outputs": []
    },
    {
      "cell_type": "code",
      "source": [
        "\n",
        "a&b\n"
      ],
      "metadata": {
        "id": "nxp_99XD40F6"
      },
      "execution_count": null,
      "outputs": []
    },
    {
      "cell_type": "code",
      "source": [
        "\n",
        "a|b\n"
      ],
      "metadata": {
        "id": "HIkaHnKJ45hQ"
      },
      "execution_count": null,
      "outputs": []
    },
    {
      "cell_type": "code",
      "source": [
        "a={True,1.0,1.8,\"sam\",(1,8,9)}"
      ],
      "metadata": {
        "id": "nuKLuo1u5BG7"
      },
      "execution_count": null,
      "outputs": []
    },
    {
      "cell_type": "code",
      "source": [
        "a"
      ],
      "metadata": {
        "id": "-LqFz2LP7SkW"
      },
      "execution_count": null,
      "outputs": []
    },
    {
      "cell_type": "code",
      "source": [
        "a"
      ],
      "metadata": {
        "id": "6vWzLMgN8b_B"
      },
      "execution_count": null,
      "outputs": []
    },
    {
      "cell_type": "code",
      "source": [
        "a"
      ],
      "metadata": {
        "id": "Wc3LmJ4y8dpU"
      },
      "execution_count": null,
      "outputs": []
    },
    {
      "cell_type": "code",
      "source": [
        "a.add(12)"
      ],
      "metadata": {
        "id": "7TvHu0nq8tNa"
      },
      "execution_count": null,
      "outputs": []
    },
    {
      "cell_type": "code",
      "source": [
        "a #set is itself a mutable but it contains immutable "
      ],
      "metadata": {
        "id": "UhhRjfit80RS"
      },
      "execution_count": null,
      "outputs": []
    },
    {
      "cell_type": "code",
      "source": [
        "id(a)"
      ],
      "metadata": {
        "id": "GBk3vonE80qT"
      },
      "execution_count": null,
      "outputs": []
    },
    {
      "cell_type": "code",
      "source": [
        "a.add(16)"
      ],
      "metadata": {
        "id": "oCaE_xba9BN1"
      },
      "execution_count": null,
      "outputs": []
    },
    {
      "cell_type": "code",
      "source": [
        "a"
      ],
      "metadata": {
        "id": "7mLB1Um29DQz"
      },
      "execution_count": null,
      "outputs": []
    },
    {
      "cell_type": "code",
      "source": [
        "id(a)"
      ],
      "metadata": {
        "id": "wKtJ8sEO9EKX"
      },
      "execution_count": null,
      "outputs": []
    },
    {
      "cell_type": "markdown",
      "source": [
        "##**Dict** "
      ],
      "metadata": {
        "id": "ShqNd3MF_ADY"
      }
    },
    {
      "cell_type": "code",
      "source": [
        "scores={\n",
        " \"s1\":10,\n",
        " \"s2\":12,\n",
        " \"s3\":15,\n",
        " \"s4\":9\n",
        "}"
      ],
      "metadata": {
        "id": "WWuhSvEW9RHI"
      },
      "execution_count": null,
      "outputs": []
    },
    {
      "cell_type": "code",
      "source": [
        "scores[\"s1\"]"
      ],
      "metadata": {
        "id": "P025AeHi_vFj"
      },
      "execution_count": null,
      "outputs": []
    },
    {
      "cell_type": "code",
      "source": [
        "scores[\"s2\"]"
      ],
      "metadata": {
        "id": "PL0_1jnk_y42"
      },
      "execution_count": null,
      "outputs": []
    },
    {
      "cell_type": "code",
      "source": [
        "scores[\"s3\"]"
      ],
      "metadata": {
        "id": "l7E5XSdK_1K5"
      },
      "execution_count": null,
      "outputs": []
    },
    {
      "cell_type": "code",
      "source": [
        "scores[\"s4\"]"
      ],
      "metadata": {
        "id": "rBzUm6NG_591"
      },
      "execution_count": null,
      "outputs": []
    },
    {
      "cell_type": "code",
      "source": [
        "id(scores)"
      ],
      "metadata": {
        "id": "RQzOu2mU_9Al"
      },
      "execution_count": null,
      "outputs": []
    },
    {
      "cell_type": "code",
      "source": [
        "scores[\"s4\"]=12\n"
      ],
      "metadata": {
        "id": "vVV2-t1FCD6l"
      },
      "execution_count": null,
      "outputs": []
    },
    {
      "cell_type": "code",
      "source": [
        "id(scores)\n"
      ],
      "metadata": {
        "id": "hPTvj-iXCPLl"
      },
      "execution_count": null,
      "outputs": []
    },
    {
      "cell_type": "code",
      "source": [
        "scores"
      ],
      "metadata": {
        "id": "hD4cT2pOCQgT"
      },
      "execution_count": null,
      "outputs": []
    },
    {
      "cell_type": "code",
      "source": [
        "test={\n",
        "\"s1\":10,\n",
        "1:1.0,\n",
        "2.8:\"asam\",\n",
        "False:True,\n",
        "(1,9,8):[10],\n",
        "\"s2\":(1,9,10),\n",
        "\"s3\":{1,2,9},\n",
        "\"s4\":{\"a\":10,\"b\":20\n",
        "\n",
        "\n",
        "},\n",
        "\n",
        "\n",
        "\n",
        "}"
      ],
      "metadata": {
        "id": "tS4MnrOcCTXs"
      },
      "execution_count": null,
      "outputs": []
    },
    {
      "cell_type": "code",
      "source": [
        "test"
      ],
      "metadata": {
        "id": "XbSci9tpESoa"
      },
      "execution_count": null,
      "outputs": []
    },
    {
      "cell_type": "code",
      "source": [
        "\n",
        "\"\"\"\n",
        "\n",
        "int\n",
        "float\n",
        "string\n",
        "bool\n",
        "\n",
        "list->mu ->any object \n",
        "tuple -> immu ->any object\n",
        "set->mu -> only it contains immutable \n",
        "dict->mu-> any object(values) , immutable(keys)\n",
        "\n",
        "\n",
        "immu-->int,float,bool,str,tuple\n",
        "mu-->set,list,dict\n",
        "\"\"\""
      ],
      "metadata": {
        "id": "Elsuxh8hEUNb"
      },
      "execution_count": null,
      "outputs": []
    },
    {
      "cell_type": "markdown",
      "source": [
        "# **if - else **"
      ],
      "metadata": {
        "id": "RX7BiL_lIxJv"
      }
    },
    {
      "cell_type": "code",
      "source": [
        "x=10\n",
        "if x==10:\n",
        "    print(\"yes\")\n",
        "else:\n",
        "    print(\"no\")    "
      ],
      "metadata": {
        "id": "_AVwFaXMI4Fa"
      },
      "execution_count": null,
      "outputs": []
    },
    {
      "cell_type": "code",
      "source": [
        "x=10.2\n",
        "if x==10:\n",
        "    print(\"yes\")\n",
        "else:\n",
        "    print(\"no\")    "
      ],
      "metadata": {
        "id": "AqtvAReZJOh4"
      },
      "execution_count": null,
      "outputs": []
    },
    {
      "cell_type": "code",
      "source": [
        "x=10.1\n",
        "if x==10.1:\n",
        "    print(\"yes\")\n",
        "else:\n",
        "    print(\"no\")    "
      ],
      "metadata": {
        "id": "iLNmzb5gJTY3"
      },
      "execution_count": null,
      "outputs": []
    },
    {
      "cell_type": "code",
      "source": [
        "x=1\n",
        "if x==True:\n",
        "    print(\"yes\")\n",
        "else:\n",
        "    print(\"no\")    "
      ],
      "metadata": {
        "id": "hTfV4bAhJrW-"
      },
      "execution_count": null,
      "outputs": []
    },
    {
      "cell_type": "code",
      "source": [
        "x=10.2\n",
        "if x==10.2:\n",
        "    print(\"cond 1\")\n",
        "elif x==10.2:\n",
        "    print(\"cond 2\")\n",
        "elif x==10.2:\n",
        "    print(\"cond 3\")\n",
        "else:\n",
        "    print(\"none\")    "
      ],
      "metadata": {
        "id": "dYNrtjREJ4ck"
      },
      "execution_count": null,
      "outputs": []
    },
    {
      "cell_type": "code",
      "source": [
        "x=19\n",
        "if x==12:\n",
        "    x=14\n",
        "elif x==14:\n",
        "    x=18\n",
        "elif x==18:\n",
        "    x=20\n",
        "else:\n",
        "    x=12                "
      ],
      "metadata": {
        "id": "OLqBmUi9KhxW"
      },
      "execution_count": null,
      "outputs": []
    },
    {
      "cell_type": "code",
      "source": [
        "x"
      ],
      "metadata": {
        "id": "wFsuSHwaLpBf"
      },
      "execution_count": null,
      "outputs": []
    },
    {
      "cell_type": "code",
      "source": [
        "l=[1,10,12,17,19,29]\n",
        "\n",
        "\n",
        "l[0]=l[0]+5\n",
        "l[1]=l[1]+5\n",
        "l[2]=l[2]+5\n",
        "l[3]=l[3]+5\n",
        "l[4]=l[4]+5\n",
        "l[5]=l[5]+5\n",
        "\n",
        "\n",
        "\n"
      ],
      "metadata": {
        "id": "EZGIYrjJLp9Q"
      },
      "execution_count": null,
      "outputs": []
    },
    {
      "cell_type": "code",
      "source": [
        "l"
      ],
      "metadata": {
        "id": "weBYdiPPBVi_"
      },
      "execution_count": null,
      "outputs": []
    },
    {
      "cell_type": "code",
      "source": [
        "l2=[]\n",
        "l=[1,10,12,17,19,29]\n",
        "\n",
        "for number in l:\n",
        "\n",
        "   l2.append(number+5)\n",
        "l2"
      ],
      "metadata": {
        "id": "qYewKHv7B7_a"
      },
      "execution_count": null,
      "outputs": []
    },
    {
      "cell_type": "code",
      "source": [
        "l2=[]\n",
        "l=[1,10,12,17,19,29]\n",
        "\n",
        "for i in l:\n",
        "\n",
        "   l2.append(i+5)\n",
        "l2"
      ],
      "metadata": {
        "id": "K8MEqXtNCbSQ"
      },
      "execution_count": null,
      "outputs": []
    },
    {
      "cell_type": "code",
      "source": [
        "l2=[]\n",
        "l=[1,10,12,17,19,29,20,10,10,12,12,]\n",
        "\n",
        "for j in l:\n",
        "\n",
        "   l2.append(j+5)\n",
        "l2"
      ],
      "metadata": {
        "id": "i9Mg-ILpCs0P"
      },
      "execution_count": null,
      "outputs": []
    },
    {
      "cell_type": "code",
      "source": [
        "l2=[]\n",
        "l=[\"sam\",\"alekhya\",\"rohan\",\"manu\",\"python\"]\n",
        "\n",
        "for j in l:\n",
        "\n",
        "   l2.append(j.upper())\n",
        "l2"
      ],
      "metadata": {
        "id": "61JlVob6CzLS"
      },
      "execution_count": null,
      "outputs": []
    },
    {
      "cell_type": "code",
      "source": [
        "l2"
      ],
      "metadata": {
        "id": "7qR-33W2EYZX"
      },
      "execution_count": null,
      "outputs": []
    },
    {
      "cell_type": "code",
      "source": [
        "l2=[]\n",
        "l=[1,10,12,17,19,29,20,10,10,12,12,]\n",
        "\n",
        "for j in l:\n",
        "    if j%2==0:\n",
        "       l2.append(j+5)\n",
        "l2"
      ],
      "metadata": {
        "id": "nwO2tkPHEZd9"
      },
      "execution_count": null,
      "outputs": []
    },
    {
      "cell_type": "code",
      "source": [
        "l2=[]\n",
        "l=[1,10,12,17,19,29,20,10,10,12,12,]\n",
        "\n",
        "for j in l:\n",
        "    if j%2!=0:\n",
        "       l2.append(j+5)\n",
        "l2"
      ],
      "metadata": {
        "id": "B5FvlEdxF97k"
      },
      "execution_count": null,
      "outputs": []
    },
    {
      "cell_type": "code",
      "source": [
        "l2=[]\n",
        "l=[\"sam\",\"alekhya\",\"rohan\",\"manu\",\"python\"]\n",
        "\n",
        "for j in l:\n",
        "   if j[0] not in \"aeiou\":\n",
        "      l2.append(j.upper())\n",
        "l2"
      ],
      "metadata": {
        "id": "tDoP-opAG5qU"
      },
      "execution_count": null,
      "outputs": []
    },
    {
      "cell_type": "code",
      "source": [
        "l=[]\n",
        "for i in range(1,10):\n",
        "    tem=[]\n",
        "    for j in range(i):\n",
        "           tem.append(\"*\")\n",
        "    l.append(tem)       "
      ],
      "metadata": {
        "id": "llIGXn8rJeEY"
      },
      "execution_count": null,
      "outputs": []
    },
    {
      "cell_type": "code",
      "source": [
        "l"
      ],
      "metadata": {
        "id": "_n_BEWCCKtnv"
      },
      "execution_count": null,
      "outputs": []
    },
    {
      "cell_type": "code",
      "source": [
        "l2=[]\n",
        "l=[1,10,12,17,19,29,20,10,10,12,12,]\n",
        "\n",
        "for j in l:\n",
        "\n",
        "   l2.append(j+5)\n",
        "l2"
      ],
      "metadata": {
        "id": "l8KCWkyELO2J"
      },
      "execution_count": null,
      "outputs": []
    },
    {
      "cell_type": "code",
      "source": [
        "l2=[]\n",
        "l=[100,12,19,19]\n",
        "\n",
        "for j in l:\n",
        "\n",
        "   l2.append(j+5)\n",
        "l2"
      ],
      "metadata": {
        "id": "Qw0Z1UmKM6p2"
      },
      "execution_count": null,
      "outputs": []
    },
    {
      "cell_type": "code",
      "source": [
        "def fun(l):\n",
        "\n",
        "    l2=[]\n",
        "\n",
        "    for j in l:\n",
        "\n",
        "        l2.append(j+5)\n",
        "    print(l2)"
      ],
      "metadata": {
        "id": "hMPxPlamNBzR"
      },
      "execution_count": null,
      "outputs": []
    },
    {
      "cell_type": "code",
      "source": [
        "fun([10,12,18,17,14,16])"
      ],
      "metadata": {
        "id": "gIDDhNFZNa19"
      },
      "execution_count": null,
      "outputs": []
    },
    {
      "cell_type": "code",
      "source": [
        "fun([12,13,18])"
      ],
      "metadata": {
        "id": "8IdviYBnNhh_"
      },
      "execution_count": null,
      "outputs": []
    },
    {
      "cell_type": "code",
      "source": [
        "def fun1(l):\n",
        "\n",
        "    l2=[]\n",
        "\n",
        "\n",
        "    for j in l:\n",
        "        if j[0]  in \"aeiou\":\n",
        "            l2.append(j.upper())\n",
        "    print(l2)"
      ],
      "metadata": {
        "id": "FM_VR7uINkvI"
      },
      "execution_count": null,
      "outputs": []
    },
    {
      "cell_type": "code",
      "source": [
        "fun1([\"sam\",\"alekhya\",\"rohan\",\"manu\",\"python\"])"
      ],
      "metadata": {
        "id": "kDJl-ZNkQtif"
      },
      "execution_count": null,
      "outputs": []
    },
    {
      "cell_type": "code",
      "source": [
        "number=120\n",
        "\n",
        "l=[]\n",
        "\n",
        "for i in range(1,number+1):\n",
        "     if number%i==0:\n",
        "\n",
        "        l.append(i)\n"
      ],
      "metadata": {
        "id": "mQogHPdwQyCD"
      },
      "execution_count": null,
      "outputs": []
    },
    {
      "cell_type": "code",
      "source": [
        "l"
      ],
      "metadata": {
        "id": "2E16_Wq6SYTg"
      },
      "execution_count": null,
      "outputs": []
    },
    {
      "cell_type": "code",
      "source": [
        "def fun2(number):\n",
        "    l=[]\n",
        "\n",
        "    for i in range(1,number+1):\n",
        "        if number%i==0:\n",
        "\n",
        "            l.append(i)\n",
        "\n",
        "    print(l)        "
      ],
      "metadata": {
        "id": "YrpWIJpwSaNq"
      },
      "execution_count": null,
      "outputs": []
    },
    {
      "cell_type": "code",
      "source": [
        "fun2(24)"
      ],
      "metadata": {
        "id": "5eHommCJSvLJ"
      },
      "execution_count": null,
      "outputs": []
    },
    {
      "cell_type": "code",
      "source": [
        "fun2(100)\n"
      ],
      "metadata": {
        "id": "XseZzzNYSxZ1"
      },
      "execution_count": null,
      "outputs": []
    },
    {
      "cell_type": "code",
      "source": [
        "fun2(32)"
      ],
      "metadata": {
        "id": "0N7iEp0sSy-M"
      },
      "execution_count": null,
      "outputs": []
    },
    {
      "cell_type": "markdown",
      "source": [
        "# **list comprehension**"
      ],
      "metadata": {
        "id": "P_n6QjkVLESe"
      }
    },
    {
      "cell_type": "code",
      "source": [
        "l2=[]\n",
        "l=[1,10,12,17,19,29]\n",
        "\n",
        "for i in l:\n",
        "\n",
        "   l2.append(i+5)\n",
        "l2\n",
        "\n"
      ],
      "metadata": {
        "id": "66GQsVPES0fa"
      },
      "execution_count": null,
      "outputs": []
    },
    {
      "cell_type": "code",
      "source": [
        "l=[1,10,12,17,19,29]\n",
        "\n",
        "l2=[i+5 for i in l]\n",
        "l2"
      ],
      "metadata": {
        "id": "rJqMaxdUNiQ4"
      },
      "execution_count": null,
      "outputs": []
    }
  ]
}